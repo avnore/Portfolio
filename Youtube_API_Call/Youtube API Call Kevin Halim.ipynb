{
 "cells": [
  {
   "cell_type": "markdown",
   "metadata": {},
   "source": [
    "![image](data:image/png;base64,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)\n",
    "# Data Mining with Youtube API Requests\n",
    "\n",
    "### by Kevin Halim\n",
    "\n",
    "[github](https://github.com/avnore)\n",
    "\n",
    "disclaimer:\n",
    "\n",
    "This code is not the best at requesting youtube api, so i'm open for any feedback or even critics for my code"
   ]
  },
  {
   "cell_type": "markdown",
   "metadata": {},
   "source": [
    "## Import Library\n",
    "\n",
    "here we will import the library that we will be using to data mine Youtube API and making it to dataframe."
   ]
  },
  {
   "cell_type": "code",
   "execution_count": 1,
   "metadata": {},
   "outputs": [],
   "source": [
    "import pandas as pd\n",
    "import requests\n",
    "import json"
   ]
  },
  {
   "cell_type": "markdown",
   "metadata": {},
   "source": [
    "## Inputting API Key, and Channel ID\n",
    "\n",
    "the code down below are for your api_key and the channel_id that you want to get the video.\n",
    "\n",
    "How to get Youtube Api Key:\n",
    "https://developers.google.com/youtube/v3/getting-started\n",
    "\n",
    "One way of how to get youtube channel id:\n",
    "https://commentpicker.com/youtube-channel-id.php"
   ]
  },
  {
   "cell_type": "code",
   "execution_count": 2,
   "metadata": {},
   "outputs": [],
   "source": [
    "api_key = ''\n",
    "channel_id = 'UCoIiiHof6BJ85PLuLkuxuhw'"
   ]
  },
  {
   "cell_type": "markdown",
   "metadata": {},
   "source": [
    "## Function to request Youtube API"
   ]
  },
  {
   "cell_type": "code",
   "execution_count": 3,
   "metadata": {},
   "outputs": [],
   "source": [
    "def get_channel_stats(api_key, channel_id):    \n",
    "    url_channel_stats = url = 'https://www.googleapis.com/youtube/v3/channels?key='+api_key+'&id='+channel_id+'&part=snippet,contentDetails,statistics'\n",
    "    response_channel_stats = requests.get(url_channel_stats).json()\n",
    "\n",
    "    all_data = []\n",
    "\n",
    "    for i in range(len(response_channel_stats['items'])):\n",
    "        data = dict(Channel_name = response_channel_stats['items'][i]['snippet']['title'],\n",
    "                    Subscribers = response_channel_stats['items'][i]['statistics']['subscriberCount'],\n",
    "                    Views = response_channel_stats['items'][i]['statistics']['viewCount'],\n",
    "                    Total_videos = response_channel_stats['items'][i]['statistics']['videoCount'],\n",
    "                    playlist_id = response_channel_stats['items'][i]['contentDetails']['relatedPlaylists']['uploads'])\n",
    "        all_data.append(data)\n",
    "\n",
    "    channel_data = pd.DataFrame(all_data)\n",
    "    \n",
    "    return channel_data"
   ]
  },
  {
   "cell_type": "code",
   "execution_count": 4,
   "metadata": {
    "code_folding": []
   },
   "outputs": [],
   "source": [
    "def get_video_id(api_key, playlist_id):\n",
    "    url_video_id = 'https://www.googleapis.com/youtube/v3/playlistItems?key='+api_key+'&playlistId='+playlist_id+'&part=contentDetails&order=date&maxResults=50'\n",
    "    response_video_id = requests.get(url_video_id).json()\n",
    "    response_video_id\n",
    "\n",
    "    video_ids = []\n",
    "\n",
    "    for i in range(len(response_video_id['items'])):\n",
    "        video_ids.append(response_video_id['items'][i]['contentDetails']['videoId'])\n",
    "\n",
    "    next_page_token = response_video_id.get('nextPageToken')\n",
    "    more_pages = True\n",
    "\n",
    "    while more_pages:\n",
    "        if next_page_token is None:\n",
    "            more_pages = False\n",
    "        else:\n",
    "            url_video_id = 'https://www.googleapis.com/youtube/v3/playlistItems?key='+api_key+'&playlistId='+playlist_id+'&part=contentDetails&order=date&maxResults=50&pageToken='+next_page_token\n",
    "            response_video_id = requests.get(url_video_id).json()\n",
    "\n",
    "            for i in range(len(response_video_id['items'])):\n",
    "                video_ids.append(response_video_id['items'][i]['contentDetails']['videoId'])\n",
    "\n",
    "            next_page_token = response_video_id.get('nextPageToken')\n",
    "    \n",
    "    return video_ids"
   ]
  },
  {
   "cell_type": "code",
   "execution_count": 5,
   "metadata": {
    "code_folding": []
   },
   "outputs": [],
   "source": [
    "def get_video_stats(api_key, video_ids):\n",
    "    all_video_stats = []\n",
    "\n",
    "    for i in range(0, len(video_ids)):\n",
    "        url_video_stats = 'https://www.googleapis.com/youtube/v3/videos?part=snippet,statistics,contentDetails&id='+video_ids[i]+'&key='+api_key\n",
    "        response_video_stats = requests.get(url_video_stats).json()\n",
    "\n",
    "        try:       \n",
    "            video_stats = dict(Title = response_video_stats['items'][0]['snippet']['title'],\n",
    "                                Published_date = response_video_stats['items'][0]['snippet']['publishedAt'],\n",
    "                                Views = response_video_stats['items'][0]['statistics']['viewCount'],\n",
    "                                Likes = response_video_stats['items'][0]['statistics']['likeCount'],\n",
    "                                Duration = response_video_stats['items'][0]['contentDetails']['duration'],\n",
    "                                Tags = \",\".join(response_video_stats['items'][0]['snippet']['tags']),\n",
    "                                video_id = video_ids[i]\n",
    "                                )\n",
    "        except:\n",
    "            continue\n",
    "            # We don't want videos without tag so we just skipped it, \n",
    "            # if you want the video without tag you can delete the continue and the string block below\n",
    "            \"\"\"try:\n",
    "                video_stats = dict(Title = response_video_stats['items'][0]['snippet']['title'],\n",
    "                                    Published_date = response_video_stats['items'][0]['snippet']['publishedAt'],\n",
    "                                    Views = response_video_stats['items'][0]['statistics']['viewCount'],\n",
    "                                    Likes = response_video_stats['items'][0]['statistics']['likeCount'],\n",
    "                                    Duration = response_video_stats['items'][0]['contentDetails']['duration'],\n",
    "                                    video_id = video_ids[i]\n",
    "                                    )\n",
    "            except:\n",
    "                continue\"\"\"\n",
    "\n",
    "        all_video_stats.append(video_stats)\n",
    "\n",
    "    video_data = pd.DataFrame(all_video_stats)\n",
    "    \n",
    "    return video_data"
   ]
  },
  {
   "cell_type": "markdown",
   "metadata": {},
   "source": [
    "## The call"
   ]
  },
  {
   "cell_type": "code",
   "execution_count": 6,
   "metadata": {},
   "outputs": [],
   "source": [
    "channel_data = get_channel_stats(api_key, channel_id)\n",
    "playlist_id = channel_data.playlist_id[0]\n",
    "video_ids = get_video_id(api_key, playlist_id)\n",
    "video = get_video_stats(api_key, video_ids)"
   ]
  },
  {
   "cell_type": "markdown",
   "metadata": {},
   "source": [
    "## Save it as .xlsx"
   ]
  },
  {
   "cell_type": "code",
   "execution_count": 7,
   "metadata": {},
   "outputs": [],
   "source": [
    "video.to_excel(\"video_stats.xlsx\")"
   ]
  }
 ],
 "metadata": {
  "kernelspec": {
   "display_name": "Python 3",
   "language": "python",
   "name": "python3"
  },
  "language_info": {
   "codemirror_mode": {
    "name": "ipython",
    "version": 3
   },
   "file_extension": ".py",
   "mimetype": "text/x-python",
   "name": "python",
   "nbconvert_exporter": "python",
   "pygments_lexer": "ipython3",
   "version": "3.7.6"
  }
 },
 "nbformat": 4,
 "nbformat_minor": 4
}
